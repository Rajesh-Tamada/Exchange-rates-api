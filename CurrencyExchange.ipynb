{
 "cells": [
  {
   "cell_type": "code",
   "execution_count": 48,
   "id": "e422f601-7f2d-45d4-883e-f0e7cb26c1d6",
   "metadata": {
    "scrolled": true
   },
   "outputs": [],
   "source": [
    "import requests\n",
    "import pandas as pd\n",
    "import datetime\n",
    "\n",
    "def get_historical_rates(base_currency, converted_currency, amount_of_days):\n",
    "\n",
    "    # sets the start date\n",
    "    today_date = datetime.datetime.now()\n",
    "    date_1month = (today_date - datetime.timedelta(days=1 * amount_of_days))\n",
    "\n",
    "    #send the request\n",
    "    try:\n",
    "        url = f'https://api.exchangeratesapi.io/v1/timeseries'\n",
    "        payload = {'access_key': 'b9cb3955b3ecdfe9632d1c45a1251bdd', 'base': base_currency, 'start_date': date_1month.date(), 'end_date': today_date.date()}\n",
    "        response = requests.get(url, params=payload)\n",
    "        response.raise_for_status()\n",
    "        data = pd.read_json(response.json())\n",
    "        return data\n",
    "    except Exception as e:\n",
    "        print(\"Error:\", e)\n",
    "        # load sample file\n",
    "        data = pd.read_json(\"test.json\")\n",
    "        return data\n"
   ]
  },
  {
   "cell_type": "code",
   "execution_count": 49,
   "id": "fd420501-d35d-4c5b-9cc9-cc72492bb46a",
   "metadata": {},
   "outputs": [],
   "source": [
    "\n",
    "def pre_process_data(data):\n",
    "    \n",
    "    # Desired format:\n",
    "    # [ { date: <value>, exchange_rate: <value> }, ... ]\n",
    "    # Get 'rates' from the result set\n",
    "    rates_by_date = data['rates']\n",
    "    # Convert the dictionary into desired format\n",
    "    hist_data = []\n",
    "    for key, value in rates_by_date.items():\n",
    "        hist_dict = {'date': key, 'exchange_rate': value['NZD']}\n",
    "        hist_data.append(hist_dict)\n",
    "    # create dataframe for computing\n",
    "    df = pd.DataFrame(hist_data)    \n",
    "    return df"
   ]
  },
  {
   "cell_type": "code",
   "execution_count": 50,
   "id": "037f1ed6-0ae6-4fb5-8219-7f39f20d3cc7",
   "metadata": {},
   "outputs": [],
   "source": [
    "def cleanup_data(df):\n",
    "    \n",
    "    #Drop the records for which the rate is null\n",
    "    df.dropna(inplace = True)\n",
    "\n",
    "    #Drop duplicates\n",
    "    df.drop_duplicates(inplace = True)\n",
    "\n",
    "    return df"
   ]
  },
  {
   "cell_type": "code",
   "execution_count": 42,
   "id": "49b83c2f-0ff5-47b2-8094-76cb3b69678a",
   "metadata": {},
   "outputs": [],
   "source": [
    "def get_worst_exchange_rate(df):\n",
    "    return df['exchange_rate'].min()\n",
    "\n",
    "def get_best_exchange_rate(df):\n",
    "    return df['exchange_rate'].max()\n",
    "\n",
    "def get_mean_exchange_rate(df):\n",
    "    return df['exchange_rate'].mean()"
   ]
  },
  {
   "cell_type": "code",
   "execution_count": 52,
   "id": "6bd89468-bd5a-446e-80c7-b8d0b29208f9",
   "metadata": {},
   "outputs": [],
   "source": [
    "def main():\n",
    "    data = get_historical_rates('AUD','NZD',30)\n",
    "    processed_data = pre_process_data(data)\n",
    "    result = cleanup_data(processed_data)\n",
    "    min = get_worst_exchange_rate(result)\n",
    "    max = get_best_exchange_rate(result)\n",
    "    mean = get_mean_exchange_rate(result)\n",
    "    \n",
    "    print(\"***********statistics*****************\")\n",
    "    print(\"worst exhange rate = \", min , \" on the date\",  result.loc[result.exchange_rate.idxmin(), 'date'])\n",
    "    print(\"best exhange rate = \", max, \" on the date\",  result.loc[result.exchange_rate.idxmax(), 'date'])\n",
    "    print(\"mean exhange rate = \", mean)\n",
    "\n",
    "main()"
   ]
  },
  {
   "cell_type": "code",
   "execution_count": null,
   "id": "566774f4-fc3a-4802-8793-961b4a44665a",
   "metadata": {},
   "outputs": [],
   "source": []
  },
  {
   "cell_type": "code",
   "execution_count": null,
   "id": "a9de9e1e-4a10-452d-93f9-dc04476f1c8a",
   "metadata": {},
   "outputs": [],
   "source": []
  }
 ],
 "metadata": {
  "kernelspec": {
   "display_name": "Python 3 (ipykernel)",
   "language": "python",
   "name": "python3"
  },
  "language_info": {
   "codemirror_mode": {
    "name": "ipython",
    "version": 3
   },
   "file_extension": ".py",
   "mimetype": "text/x-python",
   "name": "python",
   "nbconvert_exporter": "python",
   "pygments_lexer": "ipython3",
   "version": "3.12.3"
  }
 },
 "nbformat": 4,
 "nbformat_minor": 5
}
